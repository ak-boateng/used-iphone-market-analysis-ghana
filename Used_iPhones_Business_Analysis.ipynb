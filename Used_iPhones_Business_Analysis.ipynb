{
  "nbformat": 4,
  "nbformat_minor": 0,
  "metadata": {
    "colab": {
      "provenance": [],
      "authorship_tag": "ABX9TyOuWmhabG02F6DaX3tlemr0",
      "include_colab_link": true
    },
    "kernelspec": {
      "name": "python3",
      "display_name": "Python 3"
    },
    "language_info": {
      "name": "python"
    }
  },
  "cells": [
    {
      "cell_type": "markdown",
      "metadata": {
        "id": "view-in-github",
        "colab_type": "text"
      },
      "source": [
        "<a href=\"https://colab.research.google.com/github/ak-boateng/used-iphone-market-analysis-ghana/blob/main/Used_iPhones_Business_Analysis.ipynb\" target=\"_parent\"><img src=\"https://colab.research.google.com/assets/colab-badge.svg\" alt=\"Open In Colab\"/></a>"
      ]
    },
    {
      "cell_type": "markdown",
      "source": [
        "# Used iPhone Black Market Analysis – Ghana\n",
        "## Project Overview\n",
        "This project investigates profit margins in the used iPhone market in Ghana by scraping online marketplace data, collecting spare parts pricing, and calculating potential profitability for different iPhone models.\n",
        "It combines data collection, data cleaning, exploratory data analysis (EDA), and business insight modeling.\n",
        "The findings will be presented both as a data science portfolio project and a YouTube video titled:\n",
        "\n",
        "> *\"I Investigated the Used iPhone Black Market in Ghana\"*"
      ],
      "metadata": {
        "id": "-TShGPiUVWqu"
      }
    },
    {
      "cell_type": "code",
      "execution_count": null,
      "metadata": {
        "id": "ln7k6hpDVOrx"
      },
      "outputs": [],
      "source": []
    }
  ]
}